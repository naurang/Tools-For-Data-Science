{
 "cells": [
  {
   "cell_type": "markdown",
   "id": "61fb5215",
   "metadata": {},
   "source": [
    "# Data Science Tools and Ecosystem"
   ]
  },
  {
   "cell_type": "markdown",
   "id": "32dc5aca",
   "metadata": {},
   "source": [
    "## In this notebook, Data Science Tools and Ecosystems are summarized."
   ]
  },
  {
   "cell_type": "markdown",
   "id": "851ace62",
   "metadata": {},
   "source": [
    "Objectives:\n",
    "- Some of the popular languages that Data Scientists\n",
    "- Some of the commonly used libraries used by Data Scientists\n",
    "- Creating a Table\n",
    "- Few examples of evaluating arithmetic expressions in Python"
   ]
  },
  {
   "cell_type": "markdown",
   "id": "2e482520",
   "metadata": {},
   "source": [
    "Some of the popular languages that Data Scientists use are:\n",
    "1. Python\n",
    "2. R\n",
    "3. Scala\n",
    "4. SAAS\n",
    "5. SQL"
   ]
  },
  {
   "cell_type": "markdown",
   "id": "b97fc774",
   "metadata": {},
   "source": [
    "Some of the commonly used libraries used by Data Scientists include:\n",
    "1. Numpy\n",
    "2. Pandas\n",
    "3. Matplotib\n",
    "5. Scikit-learn\n",
    "5. OpenCv\n",
    "6. Scipy\n",
    "7. PyTorch\n",
    "8. TensorFlow"
   ]
  },
  {
   "cell_type": "markdown",
   "id": "e8fc9922",
   "metadata": {},
   "source": [
    "| Data Science Tools |\n",
    "|---|\n",
    "| VS Code |\n",
    "| |\n",
    "| R Studio |\n",
    "| |\n",
    "| Jupyter Lab |"
   ]
  },
  {
   "cell_type": "markdown",
   "id": "2d7cccf6",
   "metadata": {},
   "source": [
    "###  Below are a few examples of evaluating arithmetic expressions in Python"
   ]
  },
  {
   "cell_type": "code",
   "execution_count": 3,
   "id": "02954478",
   "metadata": {},
   "outputs": [
    {
     "data": {
      "text/plain": [
       "17"
      ]
     },
     "execution_count": 3,
     "metadata": {},
     "output_type": "execute_result"
    }
   ],
   "source": [
    "# This a simple arithmetic expression to mutiply then add integers\n",
    "\n",
    "(3*4)+5"
   ]
  },
  {
   "cell_type": "code",
   "execution_count": 4,
   "id": "8a5d625f",
   "metadata": {},
   "outputs": [
    {
     "data": {
      "text/plain": [
       "3.3333333333333335"
      ]
     },
     "execution_count": 4,
     "metadata": {},
     "output_type": "execute_result"
    }
   ],
   "source": [
    "# This will convert 200 minutes to hours by diving by 60\n",
    "min = 200\n",
    "hours = min/60\n",
    "hours"
   ]
  },
  {
   "cell_type": "markdown",
   "id": "cf9d9d2a",
   "metadata": {},
   "source": [
    "## Author\n",
    "Suraj Singh"
   ]
  },
  {
   "cell_type": "code",
   "execution_count": null,
   "id": "55917a52",
   "metadata": {},
   "outputs": [],
   "source": []
  }
 ],
 "metadata": {
  "kernelspec": {
   "display_name": "Python 3 (ipykernel)",
   "language": "python",
   "name": "python3"
  },
  "language_info": {
   "codemirror_mode": {
    "name": "ipython",
    "version": 3
   },
   "file_extension": ".py",
   "mimetype": "text/x-python",
   "name": "python",
   "nbconvert_exporter": "python",
   "pygments_lexer": "ipython3",
   "version": "3.10.4"
  }
 },
 "nbformat": 4,
 "nbformat_minor": 5
}
